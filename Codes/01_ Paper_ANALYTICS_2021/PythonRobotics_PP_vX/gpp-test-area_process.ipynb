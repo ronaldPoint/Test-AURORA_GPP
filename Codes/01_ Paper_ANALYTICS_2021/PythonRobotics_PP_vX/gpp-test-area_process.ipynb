{
 "cells": [
  {
   "cell_type": "code",
   "execution_count": 1,
   "metadata": {},
   "outputs": [],
   "source": [
    "import pandas as pd\r\n",
    "import numpy as np\r\n"
   ]
  },
  {
   "cell_type": "code",
   "execution_count": 8,
   "metadata": {},
   "outputs": [],
   "source": [
    "archivo = 'XYZ_ge30.csv'\r\n",
    "\r\n",
    "# df = pd.read_excel(archivo, sheet_name='Sheet1')\r\n",
    "df = pd.read_csv('xyz_ge30.csv')\r\n",
    "\r\n",
    "# df.describe()\r\n",
    "# df"
   ]
  },
  {
   "cell_type": "code",
   "execution_count": 3,
   "metadata": {},
   "outputs": [
    {
     "data": {
      "text/html": [
       "<div>\n",
       "<style scoped>\n",
       "    .dataframe tbody tr th:only-of-type {\n",
       "        vertical-align: middle;\n",
       "    }\n",
       "\n",
       "    .dataframe tbody tr th {\n",
       "        vertical-align: top;\n",
       "    }\n",
       "\n",
       "    .dataframe thead th {\n",
       "        text-align: right;\n",
       "    }\n",
       "</style>\n",
       "<table border=\"1\" class=\"dataframe\">\n",
       "  <thead>\n",
       "    <tr style=\"text-align: right;\">\n",
       "      <th></th>\n",
       "      <th>ELEVATION</th>\n",
       "      <th>coords</th>\n",
       "    </tr>\n",
       "  </thead>\n",
       "  <tbody>\n",
       "    <tr>\n",
       "      <th>0</th>\n",
       "      <td>38.80</td>\n",
       "      <td>[(1626044.43, 4755664.46), (1626033.17, 475566...</td>\n",
       "    </tr>\n",
       "    <tr>\n",
       "      <th>1</th>\n",
       "      <td>33.34</td>\n",
       "      <td>[(1626042.67, 4755674.45), (1626054.06, 475567...</td>\n",
       "    </tr>\n",
       "    <tr>\n",
       "      <th>2</th>\n",
       "      <td>49.37</td>\n",
       "      <td>[(1625832.76, 4755887.78), (1625822.85, 475588...</td>\n",
       "    </tr>\n",
       "    <tr>\n",
       "      <th>3</th>\n",
       "      <td>38.38</td>\n",
       "      <td>[(1625440.2, 4754691.15), (1625437.62, 4754691...</td>\n",
       "    </tr>\n",
       "    <tr>\n",
       "      <th>4</th>\n",
       "      <td>32.66</td>\n",
       "      <td>[(1625461.65, 4754556.58), (1625451.58, 475455...</td>\n",
       "    </tr>\n",
       "    <tr>\n",
       "      <th>...</th>\n",
       "      <td>...</td>\n",
       "      <td>...</td>\n",
       "    </tr>\n",
       "    <tr>\n",
       "      <th>139</th>\n",
       "      <td>38.38</td>\n",
       "      <td>[(1625440.2, 4754691.15), (1625437.62, 4754691...</td>\n",
       "    </tr>\n",
       "    <tr>\n",
       "      <th>140</th>\n",
       "      <td>47.83</td>\n",
       "      <td>[(1625332.18, 4754317.3), (1625357.88, 4754307...</td>\n",
       "    </tr>\n",
       "    <tr>\n",
       "      <th>141</th>\n",
       "      <td>30.93</td>\n",
       "      <td>[(1625309.23, 4754826.45), (1625313.82, 475483...</td>\n",
       "    </tr>\n",
       "    <tr>\n",
       "      <th>142</th>\n",
       "      <td>37.21</td>\n",
       "      <td>[(1625150.76, 4754068.51), (1625163.82, 475406...</td>\n",
       "    </tr>\n",
       "    <tr>\n",
       "      <th>143</th>\n",
       "      <td>NaN</td>\n",
       "      <td>[(1626092.8440975286, 4756026.544592799), (162...</td>\n",
       "    </tr>\n",
       "  </tbody>\n",
       "</table>\n",
       "<p>144 rows × 2 columns</p>\n",
       "</div>"
      ],
      "text/plain": [
       "     ELEVATION                                             coords\n",
       "0        38.80  [(1626044.43, 4755664.46), (1626033.17, 475566...\n",
       "1        33.34  [(1626042.67, 4755674.45), (1626054.06, 475567...\n",
       "2        49.37  [(1625832.76, 4755887.78), (1625822.85, 475588...\n",
       "3        38.38  [(1625440.2, 4754691.15), (1625437.62, 4754691...\n",
       "4        32.66  [(1625461.65, 4754556.58), (1625451.58, 475455...\n",
       "..         ...                                                ...\n",
       "139      38.38  [(1625440.2, 4754691.15), (1625437.62, 4754691...\n",
       "140      47.83  [(1625332.18, 4754317.3), (1625357.88, 4754307...\n",
       "141      30.93  [(1625309.23, 4754826.45), (1625313.82, 475483...\n",
       "142      37.21  [(1625150.76, 4754068.51), (1625163.82, 475406...\n",
       "143        NaN  [(1626092.8440975286, 4756026.544592799), (162...\n",
       "\n",
       "[144 rows x 2 columns]"
      ]
     },
     "execution_count": 3,
     "metadata": {},
     "output_type": "execute_result"
    }
   ],
   "source": [
    "\r\n",
    "df_gpp = df.loc[:,['ELEVATION','coords']]  \r\n",
    "# df_gpp.\r\n",
    "df_gpp\r\n",
    "# "
   ]
  },
  {
   "cell_type": "code",
   "execution_count": 12,
   "metadata": {},
   "outputs": [
    {
     "data": {
      "text/plain": [
       "'[(1626044.43, 4755664.46), (1626033.17, 4755662.42), (1626031.36, 4755672.4), (1626042.67, 4755674.45), (1626044.43, 4755664.46)]'"
      ]
     },
     "execution_count": 12,
     "metadata": {},
     "output_type": "execute_result"
    }
   ],
   "source": [
    "# xxc = df_gpp[ df_gpp['ELEVATION'] == 38.80].coords[0]\r\n",
    "xcc = df_gpp['ELEVATION'][0]\r\n",
    "\r\n",
    "xxc\r\n",
    "\r\n",
    "# t = list(xxc[0])"
   ]
  },
  {
   "cell_type": "code",
   "execution_count": 7,
   "metadata": {},
   "outputs": [],
   "source": [
    "def arregla_esta_webada(x):\r\n",
    "    lista = []\r\n",
    "    x = x.replace('[','').replace(']','').replace('),',');').split(';')\r\n",
    "    for i in x:\r\n",
    "        a = i.replace('(','').replace(')','').split(',')\r\n",
    "        p = [float(w) for w in a]\r\n",
    "        lista.append(p)\r\n",
    "    return lista\r\n",
    "\r\n",
    "xx = arregla_esta_webada(xxc)    \r\n"
   ]
  },
  {
   "cell_type": "code",
   "execution_count": 20,
   "metadata": {},
   "outputs": [
    {
     "data": {
      "text/plain": [
       "4755664.46"
      ]
     },
     "execution_count": 20,
     "metadata": {},
     "output_type": "execute_result"
    }
   ],
   "source": [
    "xx[0][1]\r\n"
   ]
  }
 ],
 "metadata": {
  "interpreter": {
   "hash": "2db524e06e9f5f4ffedc911c917cb75e12dbc923643829bf417064a77eb14d37"
  },
  "kernelspec": {
   "display_name": "Python 3.8.3 64-bit",
   "name": "python3"
  },
  "language_info": {
   "codemirror_mode": {
    "name": "ipython",
    "version": 3
   },
   "file_extension": ".py",
   "mimetype": "text/x-python",
   "name": "python",
   "nbconvert_exporter": "python",
   "pygments_lexer": "ipython3",
   "version": "3.8.3"
  },
  "orig_nbformat": 4
 },
 "nbformat": 4,
 "nbformat_minor": 2
}