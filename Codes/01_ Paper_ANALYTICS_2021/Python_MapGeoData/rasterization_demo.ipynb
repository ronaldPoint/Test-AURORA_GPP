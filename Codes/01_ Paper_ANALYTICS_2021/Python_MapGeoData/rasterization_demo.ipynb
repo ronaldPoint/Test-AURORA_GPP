{
  "cells": [
    {
      "cell_type": "code",
      "execution_count": 1,
      "source": [
        "%matplotlib inline"
      ],
      "outputs": [],
      "metadata": {
        "collapsed": false
      }
    },
    {
      "cell_type": "markdown",
      "source": [
        "\n",
        "# Rasterization for vector graphics\n",
        "\n",
        "\n",
        "Rasterization converts vector graphics into a raster image (pixels). It can\n",
        "speed up rendering and produce smaller files for large data sets, but comes\n",
        "at the cost of a fixed resolution.\n",
        "\n",
        "Whether rasterization should be used can be specified per artist.  This can be\n",
        "useful to reduce the file size of large artists, while maintaining the\n",
        "advantages of vector graphics for other artists such as the axes\n",
        "and text.  For instance a complicated `~.Axes.pcolormesh` or\n",
        "`~.Axes.contourf` can be made significantly simpler by rasterizing.\n",
        "Setting rasterization only affects vector backends such as PDF, SVG, or PS.\n",
        "\n",
        "Rasterization is disabled by default. There are two ways to enable it, which\n",
        "can also be combined:\n",
        "\n",
        "- Set `~.Artist.set_rasterized` on individual artists, or use the keyword\n",
        "  argument *rasterized* when creating the artist.\n",
        "- Set `.Axes.set_rasterization_zorder` to rasterize all artists with a zorder\n",
        "  less than the given value.\n",
        "\n",
        "The storage size and the resolution of the rasterized artist is determined by\n",
        "its physical size and the value of the ``dpi`` parameter passed to\n",
        "`~.Figure.savefig`.\n",
        "\n",
        "<div class=\"alert alert-info\"><h4>Note</h4><p>The image of this example shown in the HTML documentation is not a vector\n",
        "    graphic. Therefore, it cannot illustrate the rasterization effect. Please\n",
        "    run this example locally and check the generated graphics files.</p></div>\n"
      ],
      "metadata": {}
    },
    {
      "cell_type": "code",
      "execution_count": 2,
      "source": [
        "import numpy as np\r\n",
        "import matplotlib.pyplot as plt\r\n",
        "\r\n",
        "d = np.arange(100).reshape(10, 10)  # the values to be color-mapped\r\n",
        "x, y = np.meshgrid(np.arange(11), np.arange(11))\r\n",
        "\r\n",
        "theta = 0.25*np.pi\r\n",
        "xx = x*np.cos(theta) - y*np.sin(theta)  # rotate x by -theta\r\n",
        "yy = x*np.sin(theta) + y*np.cos(theta)  # rotate y by -theta\r\n",
        "\r\n",
        "fig, ((ax1, ax2), (ax3, ax4)) = plt.subplots(2, 2, constrained_layout=True)\r\n",
        "\r\n",
        "# pcolormesh without rasterization\r\n",
        "ax1.set_aspect(1)\r\n",
        "ax1.pcolormesh(xx, yy, d)\r\n",
        "ax1.set_title(\"No Rasterization\")\r\n",
        "\r\n",
        "# pcolormesh with rasterization; enabled by keyword argument\r\n",
        "ax2.set_aspect(1)\r\n",
        "ax2.set_title(\"Rasterization\")\r\n",
        "m = ax2.pcolormesh(xx, yy, d, rasterized=True)\r\n",
        "\r\n",
        "# pcolormesh with an overlaid text without rasterization\r\n",
        "ax3.set_aspect(1)\r\n",
        "ax3.pcolormesh(xx, yy, d)\r\n",
        "ax3.text(0.5, 0.5, \"Text\", alpha=0.2,\r\n",
        "         va=\"center\", ha=\"center\", size=50, transform=ax3.transAxes)\r\n",
        "ax3.set_title(\"No Rasterization\")\r\n",
        "\r\n",
        "# pcolormesh with an overlaid text without rasterization; enabled by zorder.\r\n",
        "# Setting the rasterization zorder threshold to 0 and a negative zorder on the\r\n",
        "# pcolormesh rasterizes it. All artists have a non-negative zorder by default,\r\n",
        "# so they (e.g. the text here) are not affected.\r\n",
        "ax4.set_aspect(1)\r\n",
        "m = ax4.pcolormesh(xx, yy, d, zorder=-10)\r\n",
        "ax4.text(0.5, 0.5, \"Text\", alpha=0.2,\r\n",
        "         va=\"center\", ha=\"center\", size=50, transform=ax4.transAxes)\r\n",
        "ax4.set_rasterization_zorder(0)\r\n",
        "ax4.set_title(\"Rasterization z$<-10$\")\r\n",
        "\r\n",
        "# Save files in pdf and eps format\r\n",
        "plt.savefig(\"test_rasterization.pdf\", dpi=150)\r\n",
        "plt.savefig(\"test_rasterization.eps\", dpi=150)\r\n",
        "\r\n",
        "if not plt.rcParams[\"text.usetex\"]:\r\n",
        "    plt.savefig(\"test_rasterization.svg\", dpi=150)\r\n",
        "    # svg backend currently ignores the dpi"
      ],
      "outputs": [
        {
          "output_type": "stream",
          "name": "stderr",
          "text": [
            "The PostScript backend does not support transparency; partially transparent artists will be rendered opaque.\n",
            "The PostScript backend does not support transparency; partially transparent artists will be rendered opaque.\n"
          ]
        },
        {
          "output_type": "display_data",
          "data": {
            "text/plain": [
              "<Figure size 432x288 with 4 Axes>"
            ],
            "image/png": "[encoded data removed]"
          },
          "metadata": {
            "needs_background": "light"
          }
        }
      ],
      "metadata": {
        "collapsed": false
      }
    },
    {
      "cell_type": "markdown",
      "source": [
        ".. admonition:: References\n",
        "\n",
        "   The use of the following functions, methods, classes and modules is shown\n",
        "   in this example:\n",
        "\n",
        "   - `matplotlib.artist.Artist.set_rasterized`\n",
        "   - `matplotlib.axes.Axes.set_rasterization_zorder`\n",
        "   - `matplotlib.axes.Axes.pcolormesh` / `matplotlib.pyplot.pcolormesh`\n",
        "\n"
      ],
      "metadata": {}
    }
  ],
  "metadata": {
    "kernelspec": {
      "name": "python3",
      "display_name": "Python 3.7.10 64-bit ('geopandas': conda)"
    },
    "language_info": {
      "codemirror_mode": {
        "name": "ipython",
        "version": 3
      },
      "file_extension": ".py",
      "mimetype": "text/x-python",
      "name": "python",
      "nbconvert_exporter": "python",
      "pygments_lexer": "ipython3",
      "version": "3.7.10"
    },
    "interpreter": {
      "hash": "d118a22f27080833a5ef13d7ee40ba45c56d8b7dc750b60a63bdf9ad39025b2a"
    }
  },
  "nbformat": 4,
  "nbformat_minor": 2
}